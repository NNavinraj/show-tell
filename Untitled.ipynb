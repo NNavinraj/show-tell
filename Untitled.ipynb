{
 "cells": [
  {
   "cell_type": "code",
   "execution_count": null,
   "id": "ad826bf6",
   "metadata": {},
   "outputs": [],
   "source": [
    "for package in get_installed_distributions():\n",
    "    print (\"{}\\t{}\".format(time.ctime(os.path.getctime(package.location)), package))"
   ]
  },
  {
   "cell_type": "code",
   "execution_count": null,
   "id": "4fdff69a",
   "metadata": {},
   "outputs": [],
   "source": []
  }
 ],
 "metadata": {
  "kernelspec": {
   "display_name": "Python 3 (ipykernel)",
   "language": "python",
   "name": "python3"
  }
 },
 "nbformat": 4,
 "nbformat_minor": 5
}
